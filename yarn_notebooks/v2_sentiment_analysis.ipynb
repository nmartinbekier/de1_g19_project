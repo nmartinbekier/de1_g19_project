{
 "cells": [
  {
   "cell_type": "code",
   "execution_count": null,
   "id": "d0e64ad2-fde6-484d-b1f3-e08f221c6c29",
   "metadata": {},
   "outputs": [],
   "source": [
    "import pyspark\n",
    "from pyspark import SparkConf\n",
    "from pyspark.sql import SparkSession\n",
    "from pyspark import SparkContext\n",
    "conf = SparkConf()\n",
    "conf.setMaster('yarn')\n",
    "conf.setAppName('spark-nltk')\n",
    "spark_session = SparkContext(conf=conf)"
   ]
  },
  {
   "cell_type": "code",
   "execution_count": 9,
   "id": "111a0682-9031-4b53-9805-4d9ac5c9c4e7",
   "metadata": {},
   "outputs": [],
   "source": [
    "import os\n",
    "import pyspark\n",
    "from pyspark.sql import SparkSession\n",
    "os.environ['PYSPARK_PYTHON'] = \"./environment/bin/python\"\n",
    "spark_session = SparkSession.builder.master(\"yarn\") \\\n",
    "                    .appName('spark-yarn-conda_env') \\\n",
    "                    .config(\n",
    "                        \"spark.archives\",  # 'spark.yarn.dist.archives' in YARN.\n",
    "                        \"hdfs://192.168.2.250:9000/user/ubuntu/share/envs/pyspark_conda_env.tar.gz#environment\") \\\n",
    "                    .getOrCreate()"
   ]
  },
  {
   "cell_type": "code",
   "execution_count": 1,
   "id": "b4ebee1b-0252-450f-bae8-04605e8f20a2",
   "metadata": {},
   "outputs": [
    {
     "name": "stderr",
     "output_type": "stream",
     "text": [
      "Setting default log level to \"WARN\".\n",
      "To adjust logging level use sc.setLogLevel(newLevel). For SparkR, use setLogLevel(newLevel).\n"
     ]
    }
   ],
   "source": [
    "import os\n",
    "from pyspark.sql import SparkSession\n",
    "\n",
    "os.environ['PYSPARK_PYTHON'] = \"./environment/bin/python\"\n",
    "spark = SparkSession.builder.config(\n",
    "    \"spark.archives\",  # 'spark.yarn.dist.archives' in YARN.\n",
    "    \"hdfs://192.168.2.250:9000/user/ubuntu/share/envs/pyspark_conda_env.tar.gz#environment\").getOrCreate()"
   ]
  },
  {
   "cell_type": "code",
   "execution_count": 2,
   "id": "0f8cb76f-bafe-4f28-ac51-d4729bf581b1",
   "metadata": {},
   "outputs": [],
   "source": [
    "spark_session = spark"
   ]
  },
  {
   "cell_type": "code",
   "execution_count": 10,
   "id": "8224d2be-3f6d-42d5-8ce1-06ef2903273d",
   "metadata": {},
   "outputs": [
    {
     "name": "stderr",
     "output_type": "stream",
     "text": [
      "                                                                                \r"
     ]
    }
   ],
   "source": [
    "# Load comments into a Data Frame\n",
    "commentsDF = spark_session.read.json(\"hdfs://192.168.2.250:9000/user/ubuntu/1000lines_RC_2009-09\")"
   ]
  },
  {
   "cell_type": "code",
   "execution_count": null,
   "id": "ffda4287-39e4-461b-bf13-f784ef619962",
   "metadata": {},
   "outputs": [],
   "source": [
    "commentsDF.printSchema()"
   ]
  },
  {
   "cell_type": "code",
   "execution_count": 11,
   "id": "3c8718b7-b9e4-4cfb-a544-6b2211e157c4",
   "metadata": {},
   "outputs": [
    {
     "name": "stderr",
     "output_type": "stream",
     "text": [
      "[nltk_data] Downloading package vader_lexicon to\n",
      "[nltk_data]     /home/ubuntu/nltk_data...\n",
      "[nltk_data]   Package vader_lexicon is already up-to-date!\n"
     ]
    },
    {
     "data": {
      "text/plain": [
       "True"
      ]
     },
     "execution_count": 11,
     "metadata": {},
     "output_type": "execute_result"
    }
   ],
   "source": [
    "import nltk\n",
    "from nltk.sentiment import SentimentIntensityAnalyzer\n",
    "import operator\n",
    "nltk.download('vader_lexicon')"
   ]
  },
  {
   "cell_type": "code",
   "execution_count": 12,
   "id": "ea2270c9-9871-443b-b952-89c2c0601a89",
   "metadata": {},
   "outputs": [],
   "source": [
    "# Creates a temporary view using the DataFrame\n",
    "commentsDF.createOrReplaceTempView(\"body_score\")\n",
    "\n",
    "# SQL statements can be run by using the sql methods provided by spark\n",
    "body_scoreDF = spark_session.sql(\"SELECT body, score FROM body_score ORDER BY score DESC LIMIT 20\")"
   ]
  },
  {
   "cell_type": "code",
   "execution_count": null,
   "id": "5b335a6a-24ac-465d-ab1e-6b994e16ef86",
   "metadata": {},
   "outputs": [],
   "source": [
    "'''\n",
    "import flair\n",
    "from flair.models import TextClassifier\n",
    "from flair.data import Sentence\n",
    "sia = TextClassifier.load('en-sentiment')\n",
    "'''"
   ]
  },
  {
   "cell_type": "code",
   "execution_count": 13,
   "id": "5288eae7-bee9-4a5f-9a58-9c8c3ba877de",
   "metadata": {},
   "outputs": [],
   "source": [
    "from pyspark.sql.functions import col, udf\n",
    "from pyspark.sql.types import StringType\n",
    "\n",
    "sia = SentimentIntensityAnalyzer()\n",
    "\n",
    "def fl_sentiment(text):\n",
    "    sentence = Sentence(text)\n",
    "    sia.predict(sentence)\n",
    "    return(str(sentence.labels[0]))\n",
    "\n",
    "def fl_sentiment2(text):\n",
    "    return(sia.polarity_scores(text))\n",
    "\n",
    "fl_sentimentUDF = udf(fl_sentiment2, StringType())"
   ]
  },
  {
   "cell_type": "code",
   "execution_count": 14,
   "id": "c6e63536-4840-4efe-809c-7ea0ff6415b2",
   "metadata": {},
   "outputs": [
    {
     "name": "stderr",
     "output_type": "stream",
     "text": [
      "[Stage 1:>                                                          (0 + 1) / 1]\r"
     ]
    },
    {
     "name": "stdout",
     "output_type": "stream",
     "text": [
      "+--------------------+-----+--------------------+\n",
      "|                body|score|     sentiment_score|\n",
      "+--------------------+-----+--------------------+\n",
      "|My friend linked ...|  680|{neg=0.043, pos=0...|\n",
      "|This was a conver...|  550|{neg=0.108, pos=0...|\n",
      "|Computes perfectl...|  419|{neg=0.0, pos=0.5...|\n",
      "|There a few good ...|  370|{neg=0.197, pos=0...|\n",
      "|           [deleted]|  367|{neg=0.0, pos=0.0...|\n",
      "|&gt;My cousin is ...|  338|{neg=0.182, pos=0...|\n",
      "|My friend once ac...|  301|{neg=0.0, pos=0.1...|\n",
      "|**New Jersey Douc...|  300|{neg=0.0, pos=0.3...|\n",
      "|my wife's brother...|  281|{neg=0.06, pos=0....|\n",
      "|Playing ultimate ...|  248|{neg=0.178, pos=0...|\n",
      "|A guy I know to o...|  238|{neg=0.077, pos=0...|\n",
      "|Yeah, but you don...|  233|{neg=0.0, pos=0.3...|\n",
      "|The two girls who...|  206|{neg=0.084, pos=0...|\n",
      "|This was a great ...|  152|{neg=0.108, pos=0...|\n",
      "|A long time ago, ...|  143|{neg=0.098, pos=0...|\n",
      "|My girlfriend at ...|  118|{neg=0.139, pos=0...|\n",
      "|&gt;Random Custom...|  101|{neg=0.0, pos=0.0...|\n",
      "|Obama sold that b...|  100|{neg=0.16, pos=0....|\n",
      "|You should use mo...|   90|{neg=0.0, pos=0.0...|\n",
      "|tl;dr version: ob...|   60|{neg=0.241, pos=0...|\n",
      "+--------------------+-----+--------------------+\n",
      "\n"
     ]
    },
    {
     "name": "stderr",
     "output_type": "stream",
     "text": [
      "                                                                                \r"
     ]
    }
   ],
   "source": [
    "body_scoreDF.withColumn(\"sentiment_score\",fl_sentimentUDF(col(\"body\"))).select(\"body\", \"score\", \"sentiment_score\").show()"
   ]
  },
  {
   "cell_type": "code",
   "execution_count": 15,
   "id": "8c4e854a-1744-4ac8-be89-c4689392c1c1",
   "metadata": {},
   "outputs": [],
   "source": [
    "spark_session.stop()"
   ]
  },
  {
   "cell_type": "code",
   "execution_count": 20,
   "id": "5ef6052d-c7f9-4558-bf89-c6faca163c3c",
   "metadata": {},
   "outputs": [],
   "source": [
    "# pip install vaderSentiment\n",
    "# pip install nltk"
   ]
  },
  {
   "cell_type": "code",
   "execution_count": 22,
   "id": "51465088-7e36-4821-a95d-8ff1d7d70423",
   "metadata": {},
   "outputs": [],
   "source": [
    "def analyze_sentiment(text):\n",
    "    \"\"\"Determines the sentiment of a given text. \n",
    "    Returns -1 if text sentiment is neither positive nor negative.\n",
    "    Returns 1 if text sentiment is mainly positive\n",
    "    Returns 0 if text sentiment is mainly negative. \"\"\"\n",
    "    sia = SentimentIntensityAnalyzer()\n",
    "    scores = sia.polarity_scores(text)\n",
    "    pos = scores['pos']\n",
    "    neg = scores['neg']\n",
    "    if pos == neg:\n",
    "        return -1\n",
    "    elif pos > neg:\n",
    "        return 1\n",
    "    else:\n",
    "        return 0"
   ]
  },
  {
   "cell_type": "code",
   "execution_count": 26,
   "id": "965299c4-0e56-444c-ac73-f5858a1e91b1",
   "metadata": {},
   "outputs": [
    {
     "data": {
      "text/plain": [
       "0"
      ]
     },
     "execution_count": 26,
     "metadata": {},
     "output_type": "execute_result"
    }
   ],
   "source": [
    "analyze_sentiment('I am sitting here')"
   ]
  },
  {
   "cell_type": "code",
   "execution_count": null,
   "id": "ea90f71a-3002-490c-a245-5b578b943b1c",
   "metadata": {},
   "outputs": [],
   "source": [
    "lines.take(2)"
   ]
  },
  {
   "cell_type": "code",
   "execution_count": null,
   "id": "dff20c26-b23d-4d91-a54d-35e54421bc28",
   "metadata": {},
   "outputs": [],
   "source": []
  },
  {
   "cell_type": "code",
   "execution_count": 2,
   "id": "7a80b114-1859-417d-bbc7-fa37e81811fb",
   "metadata": {},
   "outputs": [
    {
     "ename": "NameError",
     "evalue": "name 'spark_context' is not defined",
     "output_type": "error",
     "traceback": [
      "\u001b[0;31m---------------------------------------------------------------------------\u001b[0m",
      "\u001b[0;31mNameError\u001b[0m                                 Traceback (most recent call last)",
      "Input \u001b[0;32mIn [2]\u001b[0m, in \u001b[0;36m<cell line: 1>\u001b[0;34m()\u001b[0m\n\u001b[0;32m----> 1\u001b[0m \u001b[43mspark_context\u001b[49m\u001b[38;5;241m.\u001b[39mstop()\n",
      "\u001b[0;31mNameError\u001b[0m: name 'spark_context' is not defined"
     ]
    }
   ],
   "source": [
    "spark_context.stop()"
   ]
  },
  {
   "cell_type": "code",
   "execution_count": null,
   "id": "5640f878-0f5e-4328-ae1e-34b14e4ac6e3",
   "metadata": {},
   "outputs": [],
   "source": []
  },
  {
   "cell_type": "code",
   "execution_count": null,
   "id": "e14d6c3e-3e48-4cbe-bd0f-26eedad529e6",
   "metadata": {},
   "outputs": [],
   "source": []
  }
 ],
 "metadata": {
  "kernelspec": {
   "display_name": "Python 3 (ipykernel)",
   "language": "python",
   "name": "python3"
  },
  "language_info": {
   "codemirror_mode": {
    "name": "ipython",
    "version": 3
   },
   "file_extension": ".py",
   "mimetype": "text/x-python",
   "name": "python",
   "nbconvert_exporter": "python",
   "pygments_lexer": "ipython3",
   "version": "3.8.10"
  }
 },
 "nbformat": 4,
 "nbformat_minor": 5
}
