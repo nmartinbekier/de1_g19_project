{
 "cells": [
  {
   "cell_type": "code",
   "execution_count": 1,
   "id": "5dddefa2-a090-4fce-8be5-4cb298ca25fb",
   "metadata": {},
   "outputs": [
    {
     "name": "stderr",
     "output_type": "stream",
     "text": [
      "Using Spark's default log4j profile: org/apache/spark/log4j-defaults.properties\n",
      "Setting default log level to \"WARN\".\n",
      "To adjust logging level use sc.setLogLevel(newLevel). For SparkR, use setLogLevel(newLevel).\n",
      "22/03/21 21:39:36 WARN NativeCodeLoader: Unable to load native-hadoop library for your platform... using builtin-java classes where applicable\n"
     ]
    }
   ],
   "source": [
    "from pyspark.sql import SparkSession\n",
    "from operator import add\n",
    "\n",
    "# New API\n",
    "spark_session = SparkSession\\\n",
    "        .builder\\\n",
    "        .master(\"spark://192.168.2.207:7077\") \\\n",
    "        .appName(\"sentiment_analysis_group19\")\\\n",
    "        .config(\"spark.executor.cores\",2)\\\n",
    "        .config(\"spark.dynamicAllocation.enabled\", False)\\\n",
    "        .config(\"spark.dynamicAllocation.shuffleTracking.enabled\", False)\\\n",
    "        .config(\"spark.shuffle.service.enabled\", False)\\\n",
    "        .config(\"spark.dynamicAllocation.executorIdleTimeout\",\"30s\")\\\n",
    "        .config(\"spark.driver.port\",9998)\\\n",
    "        .config(\"spark.blockManager.port\",10005)\\\n",
    "        .getOrCreate()\n",
    "\n",
    "# Old API (RDD)\n",
    "spark_context = spark_session.sparkContext\n",
    "\n",
    "spark_context.setLogLevel(\"ERROR\")"
   ]
  },
  {
   "cell_type": "code",
   "execution_count": 4,
   "id": "8224d2be-3f6d-42d5-8ce1-06ef2903273d",
   "metadata": {},
   "outputs": [
    {
     "name": "stderr",
     "output_type": "stream",
     "text": [
      "[nltk_data] Downloading package vader_lexicon to\n",
      "[nltk_data]     /home/ubuntu/nltk_data...\n",
      "[nltk_data]   Package vader_lexicon is already up-to-date!\n"
     ]
    },
    {
     "data": {
      "text/plain": [
       "True"
      ]
     },
     "execution_count": 4,
     "metadata": {},
     "output_type": "execute_result"
    }
   ],
   "source": [
    "# necessary imports\n",
    "import time\n",
    "from pyspark.sql.functions import udf\n",
    "from pyspark.sql.types import IntegerType\n",
    "import pyspark.sql.functions as F\n",
    "\n",
    "# sentiment analysis libraries\n",
    "import nltk\n",
    "from nltk.sentiment.vader import SentimentIntensityAnalyzer\n",
    "import nltk\n",
    "nltk.download('vader_lexicon')"
   ]
  },
  {
   "cell_type": "markdown",
   "id": "97b52a3d-676b-4319-b8fc-b6ec4fc8c858",
   "metadata": {},
   "source": [
    "### Define sentiment analysis function"
   ]
  },
  {
   "cell_type": "code",
   "execution_count": 20,
   "id": "5ef6052d-c7f9-4558-bf89-c6faca163c3c",
   "metadata": {},
   "outputs": [],
   "source": [
    "def analyze_sentiment(text):\n",
    "    \"\"\"Determines the sentiment of a given text. \n",
    "    Returns 0 if text sentiment is neither positive nor negative.\n",
    "    Returns 1 if text sentiment is mainly positive\n",
    "    Returns -1 if text sentiment is mainly negative. \"\"\"\n",
    "    try:\n",
    "        sia = SentimentIntensityAnalyzer()\n",
    "    except:\n",
    "        nltk.download('vader_lexicon')\n",
    "        sia = SentimentIntensityAnalyzer()\n",
    "    try:\n",
    "        scores = sia.polarity_scores(text)\n",
    "    except: \n",
    "        pass\n",
    "    pos = scores['pos']\n",
    "    neg = scores['neg']\n",
    "    if pos == neg:\n",
    "        return 0\n",
    "    elif pos > neg:\n",
    "        return 1\n",
    "    else:\n",
    "        return -1"
   ]
  },
  {
   "cell_type": "code",
   "execution_count": 14,
   "id": "3c8718b7-b9e4-4cfb-a544-6b2211e157c4",
   "metadata": {},
   "outputs": [
    {
     "name": "stderr",
     "output_type": "stream",
     "text": [
      "[nltk_data] Downloading package vader_lexicon to\n",
      "[nltk_data]     /home/ubuntu/nltk_data...\n"
     ]
    },
    {
     "data": {
      "text/plain": [
       "True"
      ]
     },
     "execution_count": 14,
     "metadata": {},
     "output_type": "execute_result"
    }
   ],
   "source": [
    "# check function\n",
    "print(analyze_sentiment('I love you!'))\n",
    "print(analyze_sentiment('I hate you..'))"
   ]
  },
  {
   "cell_type": "markdown",
   "id": "856942f6-aeb5-43f0-b313-6859eab5ee83",
   "metadata": {},
   "source": [
    "### Check how the sentiment of a post relates to it's score:\n",
    "- Do posts with positive sentiment have a higher average score than negative posts?"
   ]
  },
  {
   "cell_type": "code",
   "execution_count": 22,
   "id": "51465088-7e36-4821-a95d-8ff1d7d70423",
   "metadata": {},
   "outputs": [],
   "source": [
    "def apply_sentiment_analysis(path):\n",
    "    # read in data from path\n",
    "    df = spark_session.read.json(path).cache()\n",
    "    # select columns\n",
    "    df = df.select('body', 'score')\n",
    "    # instantiate user defined function\n",
    "    analyze_sentiment_fct = udf(analyze_sentiment, IntegerType())\n",
    "    # apply 'analyze_sentiment' on 'body and save result in column 'sentiment'\n",
    "    df = df.withColumn('sentiment', analyze_sentiment_fct(df.body))\n",
    "    \n",
    "    # only consider posts with score larger than 10\n",
    "    df = df.filter(df.score > 15)\n",
    "    \n",
    "    # posts with positive sentiment\n",
    "    df_neg = df.filter(df.sentiment == -1)\n",
    "    \n",
    "    # posts with negative sentiment\n",
    "    df_pos = df.filter(df.sentiment == 1)\n",
    "    \n",
    "    # num of posts with positive / negative sentiment\n",
    "    num_neg = df_neg.count()\n",
    "    num_pos = df_pos.count()\n",
    "    print('num_neg ', num_neg)\n",
    "    print('num_pos ', num_pos)\n",
    "    \n",
    "    # total score\n",
    "    sum_score_neg = df_neg.groupBy().agg(F.sum('score')).collect()\n",
    "    sum_score_pos = df_pos.groupBy().agg(F.sum('score')).collect()\n",
    "    \n",
    "    print('sum_score_neg ', sum_score_neg[0][0])\n",
    "    print('sum_score_pos ', sum_score_pos[0][0])\n",
    "\n",
    "    # average score per post for negative / positive sentiment\n",
    "    avg_neg = abs(sum_score_neg[0][0])/num_neg\n",
    "    avg_pos = abs(sum_score_pos[0][0])/num_pos\n",
    "     \n",
    "    return avg_neg, avg_pos"
   ]
  },
  {
   "cell_type": "markdown",
   "id": "23fa5f07-e9d0-4a23-aaed-28863de6f352",
   "metadata": {},
   "source": [
    "### Measure runtime"
   ]
  },
  {
   "cell_type": "code",
   "execution_count": 26,
   "id": "965299c4-0e56-444c-ac73-f5858a1e91b1",
   "metadata": {},
   "outputs": [
    {
     "data": {
      "text/plain": [
       "0"
      ]
     },
     "execution_count": 26,
     "metadata": {},
     "output_type": "execute_result"
    }
   ],
   "source": [
    "start_time = time.time()\n",
    "\n",
    "path = \"hdfs://192.168.2.207:9000/input/RC_2008-07\"\n",
    "avg_neg, avg_pos = apply_sentiment_analysis(path)\n",
    "\n",
    "print(\"--- %s seconds ---\" % (time.time() - start_time))\n",
    "\n",
    "\n",
    "print('average score negative sentiment: ', avg_neg)\n",
    "print('average score pos sentiment: ', avg_pos)"
   ]
  },
  {
   "cell_type": "code",
   "execution_count": 5,
   "id": "ea90f71a-3002-490c-a245-5b578b943b1c",
   "metadata": {},
   "outputs": [],
   "source": [
    "file_1_path = \"hdfs://192.168.2.207:9000/input/RC_2008-07\"\n",
    "file_2_path = \"hdfs://192.168.2.207:9000/input/RC_2009-05\"\n",
    "file_3_path = \"hdfs://192.168.2.207:9000/input/RC_2010-11\"\n",
    "file_4_path = \"hdfs://192.168.2.207:9000/input/RC_2011-08\"\n",
    "\n",
    "files = [file_1_path, file_2_path, file_3_path, file_4_path]\n",
    "\n",
    "for filepath in files:\n",
    "    start_time = time.time()\n",
    "    avg_neg, avg_pos = apply_sentiment_analysis(filepath)\n",
    "    print('average score negative sentiment: ', avg_neg)\n",
    "    print('average score pos sentiment: ', avg_pos)    \n",
    "    print(\"--- %s seconds ---\" % (time.time() - start_time))\n",
    "    print(\"\\n\")"
   ]
  },
  {
   "cell_type": "code",
   "execution_count": null,
   "id": "dff20c26-b23d-4d91-a54d-35e54421bc28",
   "metadata": {},
   "outputs": [],
   "source": []
  },
  {
   "cell_type": "code",
   "execution_count": 8,
   "id": "7a80b114-1859-417d-bbc7-fa37e81811fb",
   "metadata": {},
   "outputs": [],
   "source": [
    "spark_context.stop()"
   ]
  },
  {
   "cell_type": "code",
   "execution_count": null,
   "id": "5640f878-0f5e-4328-ae1e-34b14e4ac6e3",
   "metadata": {},
   "outputs": [],
   "source": []
  }
 ],
 "metadata": {
  "kernelspec": {
   "display_name": "Python 3 (ipykernel)",
   "language": "python",
   "name": "python3"
  },
  "language_info": {
   "codemirror_mode": {
    "name": "ipython",
    "version": 3
   },
   "file_extension": ".py",
   "mimetype": "text/x-python",
   "name": "python",
   "nbconvert_exporter": "python",
   "pygments_lexer": "ipython3",
   "version": "3.8.10"
  }
 },
 "nbformat": 4,
 "nbformat_minor": 5
}
