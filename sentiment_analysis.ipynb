{
 "cells": [
  {
   "cell_type": "code",
   "execution_count": 7,
   "id": "5dddefa2-a090-4fce-8be5-4cb298ca25fb",
   "metadata": {},
   "outputs": [],
   "source": [
    "from pyspark.sql import SparkSession\n",
    "from operator import add\n",
    "\n",
    "# New API\n",
    "spark_session = SparkSession\\\n",
    "        .builder\\\n",
    "        .master(\"spark://192.168.2.207:7077\") \\\n",
    "        .appName(\"sentiment_analysis_group19\")\\\n",
    "        .config(\"spark.executor.cores\",2)\\\n",
    "        .config(\"spark.dynamicAllocation.enabled\", False)\\\n",
    "        .config(\"spark.dynamicAllocation.shuffleTracking.enabled\", False)\\\n",
    "        .config(\"spark.shuffle.service.enabled\", False)\\\n",
    "        .config(\"spark.dynamicAllocation.executorIdleTimeout\",\"30s\")\\\n",
    "        .config(\"spark.driver.port\",9998)\\\n",
    "        .config(\"spark.blockManager.port\",10005)\\\n",
    "        .getOrCreate()\n",
    "\n",
    "# Old API (RDD)\n",
    "spark_context = spark_session.sparkContext\n",
    "\n",
    "spark_context.setLogLevel(\"ERROR\")"
   ]
  },
  {
   "cell_type": "code",
   "execution_count": 8,
   "id": "8224d2be-3f6d-42d5-8ce1-06ef2903273d",
   "metadata": {},
   "outputs": [
    {
     "name": "stderr",
     "output_type": "stream",
     "text": [
      "[nltk_data] Downloading package vader_lexicon to\n",
      "[nltk_data]     /home/ubuntu/nltk_data...\n",
      "[nltk_data]   Package vader_lexicon is already up-to-date!\n"
     ]
    },
    {
     "data": {
      "text/plain": [
       "True"
      ]
     },
     "execution_count": 8,
     "metadata": {},
     "output_type": "execute_result"
    }
   ],
   "source": [
    "# necessary imports\n",
    "import time\n",
    "import matplotlib.pyplot as plt\n",
    "from pyspark.sql.functions import udf\n",
    "from pyspark.sql.types import IntegerType\n",
    "import pyspark.sql.functions as F\n",
    "\n",
    "# sentiment analysis libraries\n",
    "import nltk\n",
    "from nltk.sentiment.vader import SentimentIntensityAnalyzer\n",
    "import nltk\n",
    "nltk.download('vader_lexicon')"
   ]
  },
  {
   "cell_type": "markdown",
   "id": "97b52a3d-676b-4319-b8fc-b6ec4fc8c858",
   "metadata": {},
   "source": [
    "### Define sentiment analysis function"
   ]
  },
  {
   "cell_type": "code",
   "execution_count": 9,
   "id": "5ef6052d-c7f9-4558-bf89-c6faca163c3c",
   "metadata": {},
   "outputs": [],
   "source": [
    "def analyze_sentiment(text):\n",
    "    \"\"\"Determines the sentiment of a given text. \n",
    "    Returns 0 if text sentiment is neither positive nor negative.\n",
    "    Returns 1 if text sentiment is mainly positive\n",
    "    Returns -1 if text sentiment is mainly negative. \"\"\"\n",
    "    try:\n",
    "        sia = SentimentIntensityAnalyzer()\n",
    "    except:\n",
    "        nltk.download('vader_lexicon')\n",
    "        sia = SentimentIntensityAnalyzer()\n",
    "    try:\n",
    "        scores = sia.polarity_scores(text)\n",
    "    except: \n",
    "        pass\n",
    "    pos = scores['pos']\n",
    "    neg = scores['neg']\n",
    "    if pos == neg:\n",
    "        return 0\n",
    "    elif pos > neg:\n",
    "        return 1\n",
    "    else:\n",
    "        return -1"
   ]
  },
  {
   "cell_type": "code",
   "execution_count": 10,
   "id": "3c8718b7-b9e4-4cfb-a544-6b2211e157c4",
   "metadata": {},
   "outputs": [
    {
     "name": "stdout",
     "output_type": "stream",
     "text": [
      "1\n",
      "-1\n"
     ]
    }
   ],
   "source": [
    "# check function\n",
    "print(analyze_sentiment('I love you!'))\n",
    "print(analyze_sentiment('I hate you..'))"
   ]
  },
  {
   "cell_type": "markdown",
   "id": "856942f6-aeb5-43f0-b313-6859eab5ee83",
   "metadata": {},
   "source": [
    "### Check how the sentiment of a post relates to it's score:\n",
    "- Do posts with positive sentiment have a higher average score than negative posts?"
   ]
  },
  {
   "cell_type": "code",
   "execution_count": 5,
   "id": "51465088-7e36-4821-a95d-8ff1d7d70423",
   "metadata": {},
   "outputs": [],
   "source": [
    "def apply_sentiment_analysis(path):\n",
    "    # read in data from path\n",
    "    df = spark_session.read.json(path).cache()\n",
    "    # select columns\n",
    "    df = df.select('body', 'score')\n",
    "    # instantiate user defined function\n",
    "    analyze_sentiment_fct = udf(analyze_sentiment, IntegerType())\n",
    "    # apply 'analyze_sentiment' on 'body and save result in column 'sentiment'\n",
    "    df = df.withColumn('sentiment', analyze_sentiment_fct(df.body))\n",
    "    \n",
    "    # only consider posts with score larger than 10\n",
    "    df = df.filter(df.score > 15)\n",
    "    \n",
    "    # posts with positive sentiment\n",
    "    df_neg = df.filter(df.sentiment == -1)\n",
    "    \n",
    "    # posts with negative sentiment\n",
    "    df_pos = df.filter(df.sentiment == 1)\n",
    "    \n",
    "    # num of posts with positive / negative sentiment\n",
    "    num_neg = df_neg.count()\n",
    "    num_pos = df_pos.count()\n",
    "    print('num_neg ', num_neg)\n",
    "    print('num_pos ', num_pos)\n",
    "    \n",
    "    # total score\n",
    "    sum_score_neg = df_neg.groupBy().agg(F.sum('score')).collect()\n",
    "    sum_score_pos = df_pos.groupBy().agg(F.sum('score')).collect()\n",
    "    \n",
    "    print('sum_score_neg ', sum_score_neg[0][0])\n",
    "    print('sum_score_pos ', sum_score_pos[0][0])\n",
    "\n",
    "    # average score per post for negative / positive sentiment\n",
    "    avg_neg = abs(sum_score_neg[0][0])/num_neg\n",
    "    avg_pos = abs(sum_score_pos[0][0])/num_pos\n",
    "     \n",
    "    return avg_neg, avg_pos"
   ]
  },
  {
   "cell_type": "markdown",
   "id": "23fa5f07-e9d0-4a23-aaed-28863de6f352",
   "metadata": {},
   "source": [
    "### Measure runtime"
   ]
  },
  {
   "cell_type": "code",
   "execution_count": 6,
   "id": "965299c4-0e56-444c-ac73-f5858a1e91b1",
   "metadata": {},
   "outputs": [
    {
     "name": "stderr",
     "output_type": "stream",
     "text": [
      "                                                                                \r"
     ]
    },
    {
     "name": "stdout",
     "output_type": "stream",
     "text": [
      "num_neg  63998\n",
      "num_pos  83788\n"
     ]
    },
    {
     "name": "stderr",
     "output_type": "stream",
     "text": [
      "[Stage 12:>                                                         (0 + 1) / 1]\r"
     ]
    },
    {
     "name": "stdout",
     "output_type": "stream",
     "text": [
      "sum_score_neg  3374206\n",
      "sum_score_pos  4330344\n",
      "--- 1171.271591424942 seconds ---\n",
      "average score negative sentiment:  52.723616363011345\n",
      "average score pos sentiment:  51.68215018857116\n"
     ]
    },
    {
     "name": "stderr",
     "output_type": "stream",
     "text": [
      "                                                                                \r"
     ]
    }
   ],
   "source": [
    "start_time = time.time()\n",
    "\n",
    "path = \"hdfs://192.168.2.207:9000/input/RC_2010-11\"\n",
    "avg_neg, avg_pos = apply_sentiment_analysis(path)\n",
    "\n",
    "print(\"--- %s seconds ---\" % (time.time() - start_time))\n",
    "\n",
    "\n",
    "print('average score negative sentiment: ', avg_neg)\n",
    "print('average score pos sentiment: ', avg_pos)"
   ]
  },
  {
   "cell_type": "code",
   "execution_count": 10,
   "id": "ea90f71a-3002-490c-a245-5b578b943b1c",
   "metadata": {},
   "outputs": [],
   "source": [
    "# file_1_path = \"hdfs://192.168.2.207:9000/input/RC_2008-07\"\n",
    "# file_2_path = \"hdfs://192.168.2.207:9000/input/RC_2009-05\"\n",
    "# file_3_path = \"hdfs://192.168.2.207:9000/input/RC_2009-08\"\n",
    "\n",
    "# files = [file_1_path, file_2_path, file_3_path]\n",
    "\n",
    "# for filepath in files:\n",
    "#     start_time = time.time()\n",
    "#     avg_neg, avg_pos = apply_sentiment_analysis(filepath)\n",
    "#     print(filepath)\n",
    "#     print('average score negative sentiment: ', avg_neg)\n",
    "#     print('average score pos sentiment: ', avg_pos)    \n",
    "#     print(\"--- %s seconds ---\" % (time.time() - start_time))\n",
    "#     print(\"\\n\")"
   ]
  },
  {
   "cell_type": "markdown",
   "id": "63ea5ca9-06ae-4db8-868f-ce3abe45a292",
   "metadata": {},
   "source": [
    "### Plot Strong Scaling"
   ]
  },
  {
   "cell_type": "code",
   "execution_count": 8,
   "id": "66a63f0c-1122-4036-b4de-899441066736",
   "metadata": {},
   "outputs": [
    {
     "data": {
      "image/png": "[encoded data removed]",
      "text/plain": [
       "<Figure size 432x288 with 1 Axes>"
      ]
     },
     "metadata": {
      "needs_background": "light"
     },
     "output_type": "display_data"
    }
   ],
   "source": [
    "x = ['1','2','3']\n",
    "y = [3134, 1661, 1134]\n",
    "\n",
    "\n",
    "fig = plt.figure()\n",
    "plt.plot(x, y,'ro-',label='line3')\n",
    "\n",
    "plt.xlabel('Number of Nodes', fontsize=12)\n",
    "plt.ylabel('Runtime [s]', fontsize=12)\n",
    "\n",
    "fig.suptitle('Strong Scaling', fontsize=14)\n",
    "fig.savefig('strong_scaling.jpg')"
   ]
  },
  {
   "cell_type": "markdown",
   "id": "dd662e35-4305-4691-b127-8f5b091e0454",
   "metadata": {},
   "source": [
    "### Plot Weak Scaling"
   ]
  },
  {
   "cell_type": "code",
   "execution_count": 9,
   "id": "650f3813-1479-4db6-a05b-7873601b8036",
   "metadata": {},
   "outputs": [
    {
     "data": {
      "image/png": "[encoded data removed]",
      "text/plain": [
       "<Figure size 432x288 with 1 Axes>"
      ]
     },
     "metadata": {
      "needs_background": "light"
     },
     "output_type": "display_data"
    }
   ],
   "source": [
    "x = ['1','2','3']\n",
    "y = [1107, 1139, 1134]\n",
    "\n",
    "\n",
    "fig = plt.figure()\n",
    "plt.plot(x, y,'ro-',label='line3')\n",
    "plt.ylim([1000, 1200])\n",
    "\n",
    "plt.xlabel('Number of Nodes', fontsize=12)\n",
    "plt.ylabel('Runtime [s]', fontsize=12)\n",
    "\n",
    "fig.suptitle('Weak Scaling', fontsize=14)\n",
    "fig.savefig('weak_scaling.jpg')"
   ]
  },
  {
   "cell_type": "markdown",
   "id": "028b25dd-6d9f-4a28-8496-76b176ca872d",
   "metadata": {},
   "source": [
    "### Analysis Results: Average score positive vs negative sentiment"
   ]
  },
  {
   "cell_type": "code",
   "execution_count": 22,
   "id": "8bc4cb67-2f9c-45e8-9692-70110ed33507",
   "metadata": {},
   "outputs": [
    {
     "data": {
      "image/png": "[encoded data removed]",
      "text/plain": [
       "<Figure size 432x288 with 1 Axes>"
      ]
     },
     "metadata": {
      "needs_background": "light"
     },
     "output_type": "display_data"
    }
   ],
   "source": [
    "x = ['positive','negative']\n",
    "y = [51.68, 52.72]\n",
    "\n",
    "fig = plt.figure()\n",
    "plt.bar(x, y)\n",
    "plt.ylim([0, 60])\n",
    "\n",
    "plt.xlabel('Sentiment', fontsize=12)\n",
    "plt.ylabel('Average Score', fontsize=12)\n",
    "\n",
    "fig.suptitle('Average Score depending on Sentiment', fontsize=14)\n",
    "fig.savefig('sentiment_analysis_score.jpg')"
   ]
  },
  {
   "cell_type": "code",
   "execution_count": 20,
   "id": "dbcde9c3-1578-4b8c-b3d9-f27c34be1759",
   "metadata": {},
   "outputs": [
    {
     "data": {
      "image/png": "[encoded data removed]",
      "text/plain": [
       "<Figure size 432x288 with 1 Axes>"
      ]
     },
     "metadata": {
      "needs_background": "light"
     },
     "output_type": "display_data"
    }
   ],
   "source": [
    "x = ['positive','negative']\n",
    "y = [83788, 63998]\n",
    "\n",
    "fig = plt.figure()\n",
    "plt.bar(x, y)\n",
    "plt.ylim([0, 90000])\n",
    "\n",
    "plt.xlabel('Sentiment', fontsize=12)\n",
    "plt.ylabel('Number of Posts', fontsize=12)\n",
    "\n",
    "fig.suptitle('Number of Posts per Sentiment', fontsize=14)\n",
    "fig.savefig('sentiment_analysis_num_posts.jpg')"
   ]
  },
  {
   "cell_type": "code",
   "execution_count": 19,
   "id": "7a80b114-1859-417d-bbc7-fa37e81811fb",
   "metadata": {},
   "outputs": [],
   "source": [
    "spark_context.stop()"
   ]
  },
  {
   "cell_type": "code",
   "execution_count": null,
   "id": "5640f878-0f5e-4328-ae1e-34b14e4ac6e3",
   "metadata": {},
   "outputs": [],
   "source": []
  }
 ],
 "metadata": {
  "kernelspec": {
   "display_name": "Python 3 (ipykernel)",
   "language": "python",
   "name": "python3"
  },
  "language_info": {
   "codemirror_mode": {
    "name": "ipython",
    "version": 3
   },
   "file_extension": ".py",
   "mimetype": "text/x-python",
   "name": "python",
   "nbconvert_exporter": "python",
   "pygments_lexer": "ipython3",
   "version": "3.8.10"
  }
 },
 "nbformat": 4,
 "nbformat_minor": 5
}
